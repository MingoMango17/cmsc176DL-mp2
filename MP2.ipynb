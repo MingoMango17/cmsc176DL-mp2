{
 "cells": [
  {
   "cell_type": "markdown",
   "id": "38e8f04b-c337-40cb-b49a-02dcd3be4e5f",
   "metadata": {
    "id": "38e8f04b-c337-40cb-b49a-02dcd3be4e5f"
   },
   "source": [
    "# Machine Problem 2\n",
    "---\n",
    "By:\n",
    "\n",
    "*Gonzales, Kyle*\n",
    "\n",
    "*Gulane, Wineff*\n",
    "\n",
    "*Mingo, Junry*\n",
    "\n",
    "*Panchacala, Jean*\n"
   ]
  },
  {
   "cell_type": "code",
   "execution_count": null,
   "id": "c6a9433a-81b0-4eba-8fbe-4436fcc518d7",
   "metadata": {
    "colab": {
     "base_uri": "https://localhost:8080/",
     "height": 367
    },
    "id": "c6a9433a-81b0-4eba-8fbe-4436fcc518d7",
    "outputId": "cc852de3-19bb-416f-b04f-3312c96a3f2e",
    "tags": []
   },
   "outputs": [],
   "source": [
    "# import Pkg;\n",
    "# Pkg.add(\"ForwardDiff\");\n",
    "# Pkg.add(\"Plots\");\n",
    "# Pkg.add(\"Symbolics\");"
   ]
  },
  {
   "cell_type": "markdown",
   "id": "9e5faa14-733f-4b9c-8d0a-711992c45c34",
   "metadata": {
    "id": "9e5faa14-733f-4b9c-8d0a-711992c45c34",
    "tags": []
   },
   "source": [
    "### You need to implement the benchmark functions below. You may refer to this page for reference: https://en.wikipedia.org/wiki/Test_functions_for_optimization"
   ]
  },
  {
   "cell_type": "code",
   "execution_count": null,
   "id": "9335b1a2-e497-4890-81c0-e30f2069954c",
   "metadata": {
    "colab": {
     "base_uri": "https://localhost:8080/",
     "height": 106
    },
    "id": "9335b1a2-e497-4890-81c0-e30f2069954c",
    "outputId": "ab3ddd34-ae67-4b2e-85bc-9a84d4457fa8",
    "tags": []
   },
   "outputs": [],
   "source": [
    "### Benchmark functions (for optimization algorithms)\n",
    "function beale_func(u)\n",
    "    x = u[1]\n",
    "    y = u[2]\n",
    "    return beale_func(x,y)\n",
    "end\n",
    "\n",
    "function beale_func(x,y)\n",
    "    return (1.5 - x + x*y)^2 + (2.25 - x + x*y^2)^2 + (2.625 - x + x*y^3)^2\n",
    "end\n",
    "\n",
    "function booth_func(u)\n",
    "    x = u[1]\n",
    "    y = u[2]\n",
    "    return booth_func(x,y)\n",
    "end\n",
    "\n",
    "function booth_func(x, y)\n",
    "    return (x + 2*y - 7)^2 + (2*x + y - 5)^2\n",
    "end\n",
    "\n",
    "function matyas_func(u)\n",
    "    x = u[1]\n",
    "    y = u[2]\n",
    "    return matyas_func(x,y)\n",
    "end\n",
    "\n",
    "function matyas_func(x,y)\n",
    "    return 0.26*(x^2 + y^2) - 0.48*x*y\n",
    "end\n",
    "\n",
    "function himmelblau_func(u)\n",
    "    x = u[1]\n",
    "    y = u[2]\n",
    "    return himmelblau_func(x,y)\n",
    "end\n",
    "\n",
    "function himmelblau_func(x,y)\n",
    "    return (x^2 + y - 11)^2 + (x + y^2 - 7)^2\n",
    "end\n",
    "\n",
    "function mccormick_func(u)\n",
    "    x = u[1]\n",
    "    y = u[2]\n",
    "    return mccormick_func(x,y)\n",
    "end\n",
    "\n",
    "function mccormick_func(x,y)\n",
    "    return sin(x + y) + (x - y)^2 -1.5*x + 2.5*y + 1\n",
    "end\n",
    "\n",
    "function goldstein_price_func(x,y)\n",
    "    a = 1 + ((x + y + 1)^2)*(19 - 14*x + 3*x^2 - 14*y + 6*x*y + 3*y^2)\n",
    "    b = 30 + ((2*x - 3*y)^2) * (18 - 32*x + 12*x^2 + 48*y - 36*x*y + 27*y^2)\n",
    "    return a * b\n",
    "end\n",
    "\n",
    "function goldstein_price_func(u)\n",
    "    x = u[1]\n",
    "    y = u[2]\n",
    "    return goldstein_price_func(x,y)\n",
    "end\n",
    "\n",
    "function three_hump_camel_func(x,y)\n",
    "    return 2*x^2 - 1.05*x^4 + (x^6)/6 + x*y + y^2\n",
    "end\n",
    "\n",
    "function three_hump_camel_func(u)\n",
    "    x = u[1]\n",
    "    y = u[2]\n",
    "    return three_hump_camel_func(x,y)\n",
    "end"
   ]
  },
  {
   "cell_type": "code",
   "execution_count": null,
   "id": "123d0aef-3fa1-4fef-b92d-d31a2d6658ff",
   "metadata": {
    "colab": {
     "base_uri": "https://localhost:8080/",
     "height": 106
    },
    "id": "123d0aef-3fa1-4fef-b92d-d31a2d6658ff",
    "outputId": "a46c9cdb-ee77-434c-f7f9-39c507f0dc10",
    "tags": []
   },
   "outputs": [],
   "source": [
    "using ForwardDiff\n",
    "using Plots\n",
    "using Symbolics\n",
    "\n",
    "### helper functions\n",
    "function optimize(f, params)\n",
    "    w = rand(p)\n",
    "    for t in 1:N\n",
    "        x = X[t, :]\n",
    "    end\n",
    "end\n",
    "\n",
    "function compute_gradient(f, x)\n",
    "    grad = ForwardDiff.gradient(f, x)\n",
    "    return grad\n",
    "end\n",
    "\n",
    "function symbolic_2dgradient(f)\n",
    "\n",
    "    @variables x y\n",
    "\n",
    "    D_x = Differential(x)\n",
    "    D_y = Differential(y)\n",
    "\n",
    "    df_dx = expand_derivatives(D_x(f(x, y)))  # Partial derivative w.r.t. x\n",
    "    df_dy = expand_derivatives(D_y(f(x, y)))  # Partial derivative w.r.t. y\n",
    "\n",
    "    println(\"∂f/∂x: $df_dx\")\n",
    "    println(\"∂f/∂y: $df_dy\")\n",
    "\n",
    "end\n",
    "\n",
    "function sgd_momentum(obj_func, num_params, start, γ=0.9, η=0.001, xrange=[-10,10], yrange=[-10,10], levels=200, error=0.00001)\n",
    "    θ = start\n",
    "    history = θ\n",
    "    grad = compute_gradient(obj_func, θ)\n",
    "\n",
    "    while abs(grad[1]) > error || abs(grad[2]) > error\n",
    "        v = zeros(num_params)\n",
    "        grad = compute_gradient(obj_func, θ)\n",
    "        v = γ .* v + - η .* grad\n",
    "        θ = θ + v\n",
    "        history = hcat(history, θ)\n",
    "    end\n",
    "\n",
    "    return (round.(θ, digits=3), history)\n",
    "end\n",
    "\n",
    "### plotting\n",
    "\n",
    "function countour_plot(func, x_scatter, y_scatter, xoptimal=[], yoptimal=[], title=\"Results\", xrange=[-10,10], yrange=[-10,10], fill=false, levels=100)\n",
    "    # used to keep track of how each weight converges. points start on the outside and converge towards the center (minimum point)\n",
    "    # x_scatter -> x variables of history\n",
    "    # y_scatter -> y variables of history\n",
    "    # levels -> number of lines to draw\n",
    "\n",
    "    # plot benchmark function\n",
    "    x_vals = range(xrange[1], xrange[2], length = 100)\n",
    "    y_vals = range(yrange[1], yrange[2], length = 100)\n",
    "\n",
    "    z_vals = [func(x, y) for y in y_vals, x in x_vals]\n",
    "    Plots.contour(x_vals, y_vals, z_vals, levels = 50, xlabel = \"x\", ylabel = \"y\", fill=fill)\n",
    "\n",
    "    # Set the axis limits\n",
    "    margin = 1\n",
    "    xlims!(-10 - margin, 10 + margin)\n",
    "    ylims!(-10 - margin, 10 + margin)\n",
    "\n",
    "    # plot trajectory\n",
    "    plot!(x_scatter, y_scatter, color=:red, label=\"Trajectory\") # line plot instead of scatter plot\n",
    "    scatter!([x_scatter[1]], [y_scatter[1]], color=:black,label=\"Initial Solution\")\n",
    "    scatter!([x_scatter[end]], [y_scatter[end]], markershape=:utriangle, color=:black, label=\"Best Solution\")\n",
    "\n",
    "    #plot optimal solution\n",
    "    scatter!(xoptimal, yoptimal, color=:blue, marker=:square, label=\"Optimal Solution\")\n",
    "    plot!(title=title)\n",
    "end\n",
    "\n",
    "function plot_trajectory(func, x_scatter, y_scatter, index=1, show_labels=true)\n",
    "    colors = [:red, :magenta, :green, :cyan]\n",
    "\n",
    "    if show_labels\n",
    "        plot!(x_scatter, y_scatter, color=:red, label=\"Trajectory\") # line plot instead of scatter plot\n",
    "        scatter!([x_scatter[1]], [y_scatter[1]], color=:black,label=\"Initial Solution\")\n",
    "        scatter!([x_scatter[end]], [y_scatter[end]], markershape=:utriangle, color=:black, label=\"Best Solution\")\n",
    "    else\n",
    "        plot!(x_scatter, y_scatter, color=colors[index], label=false) # line plot instead of scatter plot\n",
    "        scatter!([x_scatter[1]], [y_scatter[1]], color=:black, label=false)\n",
    "        scatter!([x_scatter[end]], [y_scatter[end]], markershape=:utriangle, color=:black, label=false)\n",
    "    end\n",
    "end\n",
    "\n",
    "function solve(optimizer, func, starts, xoptimal=[], yoptimal=[], title=\"Results\", xrange=[-10,10], yrange=[-10,10], fill=false, levels=100, )\n",
    "    x_vals = range(xrange[1], xrange[2], length = 100)\n",
    "    y_vals = range(yrange[1], yrange[2], length = 100)\n",
    "\n",
    "    z_vals = [func(x, y) for y in y_vals, x in x_vals]\n",
    "    Plots.contour(x_vals, y_vals, z_vals, levels = 50, xlabel = \"x\", ylabel = \"y\", fill=fill)\n",
    "\n",
    "    # Set the axis limits\n",
    "    margin = 1\n",
    "    xlims!(-10 - margin, 10 + margin)\n",
    "    ylims!(-10 - margin, 10 + margin)\n",
    "\n",
    "    for index in 1:length(starts)\n",
    "        start = starts[index]\n",
    "        output = optimizer(func, 2, start)\n",
    "        endpoint = output[1]\n",
    "        println(\"Best Point (Start $index): \" * string(endpoint))\n",
    "        history = output[2]\n",
    "\n",
    "        if index == 1\n",
    "            plot_trajectory(func, history[1,:], history[2,:])\n",
    "        else\n",
    "            plot_trajectory(func, history[1,:], history[2,:], index, false)\n",
    "        end\n",
    "\n",
    "    end\n",
    "    scatter!(xoptimal, yoptimal, color=:blue, marker=:square, label=\"Optimal Solution\")\n",
    "    plot!(title=title)\n",
    "\n",
    "end\n",
    "\n",
    "### helper function to generate random starting values\n",
    "function random_start(start=-10.0, step=0.01, stop=10.0)\n",
    "    x = rand(start:step:stop, 2)\n",
    "    println(\"Starting Values: \" * string(x))\n",
    "    return x\n",
    "end\n",
    "\n",
    "function plot_3d(func, optimizer, points, xoptimals=[], yoptimals=[], title=\"Results\", xrange=[-10,10], yrange=[-10,10], fill=false, levels=100)\n",
    "    outputs = []\n",
    "    endpoint = []\n",
    "    history = []\n",
    "\n",
    "    for point in points\n",
    "        output = optimizer(func, 2, point)\n",
    "        println(output[1])\n",
    "        endpoint = push!(endpoint, output[1])\n",
    "        history = push!(history, output[2])\n",
    "    end\n",
    "    # Generate x and y data points\n",
    "    x = range(-10, stop=10, length=50)\n",
    "    y = range(-10, stop=10, length=50)\n",
    "\n",
    "    # Create a grid of (x, y) points\n",
    "    X = repeat(x, 1, length(y))\n",
    "    Y = repeat(y', length(x), 1)\n",
    "\n",
    "    # Evaluate the function at each grid point\n",
    "    Z = func.(X, Y)\n",
    "\n",
    "    # Create 3D surface plot\n",
    "    surface(x, y, Z, xlabel=\"X\", ylabel=\"Y\", zlabel=\"Z\", title=\"3D Function Plot\")\n",
    "\n",
    "    # Adding a line\n",
    "    for i in 1:length(points)\n",
    "        x_line = history[i][1,:]\n",
    "        y_line = history[i][2,:]\n",
    "        z_line = func.(x_line, y_line)\n",
    "        plot!(x_line, y_line, z_line, color=\"red\", linewidth=2, label=\"Line\", primary=false)\n",
    "        scatter!([points[i][1]], [points[i][2]], [func(points[i][1], points[i][2])], label=\"Starting point\", marker=:circle, primary=false)\n",
    "        scatter!([endpoint[i][1]], [endpoint[i][2]], [func(endpoint[i][1], endpoint[i][2])], markershape=:utriangle ,color=:green, label=\"Endpoint\",primary=false)\n",
    "    end\n",
    "\n",
    "    z_optimals = []\n",
    "    for i in 1:length(xoptimal)\n",
    "        push!(z_optimals, func(xoptimal[i], yoptimal[i]))\n",
    "    end\n",
    "    scatter!(xoptimal, yoptimal, z_optimals, color=:blue, marker=:square, label=\"Optimal Solution\")\n",
    "end"
   ]
  },
  {
   "cell_type": "code",
   "execution_count": null,
   "id": "b98a9151-9d76-4643-8db6-761ad3e06e51",
   "metadata": {
    "id": "b98a9151-9d76-4643-8db6-761ad3e06e51",
    "tags": []
   },
   "outputs": [],
   "source": [
    "start_1 = [10,-10];\n",
    "start_2 = [-4, 4];\n",
    "start_3 = [0, 0];\n",
    "start_4 = [5,5];\n",
    "\n",
    "starts = [start_1, start_2, start_3, start_4]"
   ]
  },
  {
   "cell_type": "markdown",
   "id": "af95d4af-55c1-42d7-b709-352ca9d43d2c",
   "metadata": {
    "id": "af95d4af-55c1-42d7-b709-352ca9d43d2c",
    "tags": []
   },
   "source": [
    "## RMSProp"
   ]
  },
  {
   "cell_type": "code",
   "execution_count": null,
   "id": "b2b656f9-1a03-4f87-a949-abf93e85be9a",
   "metadata": {
    "id": "b2b656f9-1a03-4f87-a949-abf93e85be9a",
    "tags": []
   },
   "outputs": [],
   "source": [
    "function rmsprop(obj_func, num_params, start, γ=0.9, η=0.001, xrange=[-10,10], yrange=[-10,10], levels=200, error=0.00001)\n",
    "\n",
    "    θ = start\n",
    "    history = θ\n",
    "    # grad = compute_gradient(obj_func, θ)\n",
    "    epochs = 0\n",
    "    v = zeros(num_params)\n",
    "\n",
    "    while true\n",
    "        grad = compute_gradient(obj_func, θ)\n",
    "        if !(abs(grad[1]) > error || abs(grad[2]) > error) || epochs > 30000\n",
    "            break\n",
    "        end\n",
    "        v = γ .* v + (1-γ) .* grad .^ 2\n",
    "        θ = θ - η .* grad ./ sqrt.(v .+ 0.0000001)\n",
    "        history = hcat(history, θ)\n",
    "        epochs += 1\n",
    "    end\n",
    "    println(epochs)\n",
    "    return (round.(θ, digits=3), history)\n",
    "end\n",
    "# ref: https://github.com/keras-team/keras/blob/v3.3.3/keras/src/optimizers/rmsprop.py#L6"
   ]
  },
  {
   "cell_type": "markdown",
   "id": "1684ad0a-07b3-401b-a019-d409fdc77a73",
   "metadata": {
    "id": "1684ad0a-07b3-401b-a019-d409fdc77a73"
   },
   "source": [
    "Task 2. For each function, determine the trajectory of the algorithm given the following starting points"
   ]
  },
  {
   "cell_type": "markdown",
   "id": "6d0a1e8a",
   "metadata": {
    "id": "6d0a1e8a"
   },
   "source": [
    "### Beale Function"
   ]
  },
  {
   "cell_type": "code",
   "execution_count": null,
   "id": "82c23466",
   "metadata": {
    "id": "82c23466",
    "tags": []
   },
   "outputs": [],
   "source": [
    "func = beale_func\n",
    "title = \"RMSProp | Beale Function\"\n",
    "xoptimal = [3.0]\n",
    "yoptimal = [0.5]"
   ]
  },
  {
   "cell_type": "code",
   "execution_count": null,
   "id": "0365ec99",
   "metadata": {
    "id": "0365ec99",
    "tags": []
   },
   "outputs": [],
   "source": [
    "solve(rmsprop, func, starts, xoptimal, yoptimal, title)"
   ]
  },
  {
   "cell_type": "code",
   "execution_count": null,
   "id": "07b3e4bf",
   "metadata": {
    "id": "07b3e4bf"
   },
   "outputs": [],
   "source": [
    "plot_3d(func, rmsprop, starts, xoptimal, yoptimal)"
   ]
  },
  {
   "cell_type": "code",
   "execution_count": null,
   "id": "aa3f5818",
   "metadata": {
    "id": "aa3f5818"
   },
   "outputs": [],
   "source": [
    "random_starts = []\n",
    "for i in 1:4\n",
    "    push!(random_starts,random_start())\n",
    "end\n",
    "print(random_starts)"
   ]
  },
  {
   "cell_type": "code",
   "execution_count": null,
   "id": "81f71827",
   "metadata": {
    "id": "81f71827"
   },
   "outputs": [],
   "source": [
    "solve(rmsprop, func, random_starts, xoptimal, yoptimal, title)"
   ]
  },
  {
   "cell_type": "code",
   "execution_count": null,
   "id": "65f0c50a",
   "metadata": {
    "id": "65f0c50a"
   },
   "outputs": [],
   "source": [
    "plot_3d(func, rmsprop, random_starts, xoptimal, yoptimal)"
   ]
  },
  {
   "cell_type": "markdown",
   "id": "9d9f6365",
   "metadata": {
    "id": "9d9f6365"
   },
   "source": [
    "### Booth Function"
   ]
  },
  {
   "cell_type": "code",
   "execution_count": null,
   "id": "74e518db",
   "metadata": {
    "id": "74e518db"
   },
   "outputs": [],
   "source": [
    "func = booth_func\n",
    "title = \"RMSProp | Booth Function\"\n",
    "xoptimal = [1.0]\n",
    "yoptimal = [3.0]"
   ]
  },
  {
   "cell_type": "code",
   "execution_count": null,
   "id": "0307ec6d",
   "metadata": {
    "id": "0307ec6d"
   },
   "outputs": [],
   "source": [
    "solve(rmsprop, func, starts, xoptimal, yoptimal,title)"
   ]
  },
  {
   "cell_type": "code",
   "execution_count": null,
   "id": "24bea706",
   "metadata": {
    "id": "24bea706"
   },
   "outputs": [],
   "source": [
    "plot_3d(func, rmsprop, starts, xoptimal, yoptimal)"
   ]
  },
  {
   "cell_type": "code",
   "execution_count": null,
   "id": "975349a8",
   "metadata": {
    "id": "975349a8"
   },
   "outputs": [],
   "source": [
    "random_starts = []\n",
    "for i in 1:4\n",
    "    push!(random_starts,random_start())\n",
    "end\n",
    "print(random_starts)"
   ]
  },
  {
   "cell_type": "code",
   "execution_count": null,
   "id": "1aa4a436",
   "metadata": {
    "id": "1aa4a436"
   },
   "outputs": [],
   "source": [
    "solve(rmsprop, func, random_starts, xoptimal, yoptimal,title)"
   ]
  },
  {
   "cell_type": "code",
   "execution_count": null,
   "id": "722168f2",
   "metadata": {
    "id": "722168f2"
   },
   "outputs": [],
   "source": [
    "plot_3d(func, rmsprop, random_starts, xoptimal, yoptimal)"
   ]
  },
  {
   "cell_type": "markdown",
   "id": "24c67533",
   "metadata": {
    "id": "24c67533"
   },
   "source": [
    "### Matyas Function"
   ]
  },
  {
   "cell_type": "code",
   "execution_count": null,
   "id": "1858dacb",
   "metadata": {
    "id": "1858dacb"
   },
   "outputs": [],
   "source": [
    "func = matyas_func\n",
    "title = \"RMSProp | Matyas Function\"\n",
    "xoptimal = [0]\n",
    "yoptimal = [0]"
   ]
  },
  {
   "cell_type": "code",
   "execution_count": null,
   "id": "35f4dfb8",
   "metadata": {
    "id": "35f4dfb8"
   },
   "outputs": [],
   "source": [
    "solve(rmsprop, func, starts, xoptimal, yoptimal, title)"
   ]
  },
  {
   "cell_type": "code",
   "execution_count": null,
   "id": "30f07fda",
   "metadata": {
    "id": "30f07fda"
   },
   "outputs": [],
   "source": [
    "plot_3d(func, rmsprop, starts, xoptimal, yoptimal)"
   ]
  },
  {
   "cell_type": "code",
   "execution_count": null,
   "id": "ecd5d533",
   "metadata": {
    "id": "ecd5d533"
   },
   "outputs": [],
   "source": [
    "random_starts = []\n",
    "for i in 1:4\n",
    "    push!(random_starts,random_start())\n",
    "end\n",
    "print(random_starts)\n",
    "solve(rmsprop, func, random_starts, xoptimal, yoptimal,title)"
   ]
  },
  {
   "cell_type": "code",
   "execution_count": null,
   "id": "7a8d2bc3",
   "metadata": {
    "id": "7a8d2bc3"
   },
   "outputs": [],
   "source": [
    "plot_3d(func, rmsprop, random_starts, xoptimal, yoptimal)"
   ]
  },
  {
   "cell_type": "markdown",
   "id": "71dab5cd",
   "metadata": {
    "id": "71dab5cd"
   },
   "source": [
    "### Himmelblau Function"
   ]
  },
  {
   "cell_type": "code",
   "execution_count": null,
   "id": "a7d219db",
   "metadata": {
    "id": "a7d219db"
   },
   "outputs": [],
   "source": [
    "func = himmelblau_func\n",
    "title = \"RMSProp | HimmelBlau Function\"\n",
    "xoptimal = [3, -2.805118, -3.779310, 3.584428]\n",
    "yoptimal = [2, 3.131312, -3.283186, -1.848126]"
   ]
  },
  {
   "cell_type": "code",
   "execution_count": null,
   "id": "380c66f0",
   "metadata": {
    "id": "380c66f0"
   },
   "outputs": [],
   "source": [
    "solve(rmsprop, func, starts, xoptimal, yoptimal, title)"
   ]
  },
  {
   "cell_type": "code",
   "execution_count": null,
   "id": "b68d9459",
   "metadata": {
    "id": "b68d9459"
   },
   "outputs": [],
   "source": [
    "plot_3d(func, rmsprop, starts, xoptimal, yoptimal)"
   ]
  },
  {
   "cell_type": "code",
   "execution_count": null,
   "id": "6a95228c",
   "metadata": {
    "colab": {
     "base_uri": "https://localhost:8080/",
     "height": 106
    },
    "id": "6a95228c",
    "outputId": "6781793d-fbac-48d9-f790-d869452c0ef9"
   },
   "outputs": [],
   "source": [
    "random_starts = []\n",
    "for i in 1:4\n",
    "    push!(random_starts,random_start())\n",
    "end\n",
    "print(random_starts)\n",
    "solve(rmsprop, func, random_starts, xoptimal, yoptimal,title)"
   ]
  },
  {
   "cell_type": "code",
   "execution_count": null,
   "id": "dbf769ab",
   "metadata": {
    "id": "dbf769ab"
   },
   "outputs": [],
   "source": [
    "plot_3d(func, rmsprop, random_starts, xoptimal, yoptimal)"
   ]
  },
  {
   "cell_type": "markdown",
   "id": "ed726412",
   "metadata": {
    "id": "ed726412"
   },
   "source": [
    "### Mccormick Function"
   ]
  },
  {
   "cell_type": "code",
   "execution_count": null,
   "id": "c0ef9fb4",
   "metadata": {
    "id": "c0ef9fb4"
   },
   "outputs": [],
   "source": [
    "func = mccormick_func\n",
    "title = \"RMSProp | Mccormick Function\"\n",
    "xoptimal = [-0.54719]\n",
    "yoptimal = [-1.54719]"
   ]
  },
  {
   "cell_type": "code",
   "execution_count": null,
   "id": "2a443ec1",
   "metadata": {
    "id": "2a443ec1"
   },
   "outputs": [],
   "source": [
    "solve(rmsprop, func, starts, xoptimal, yoptimal, title)"
   ]
  },
  {
   "cell_type": "code",
   "execution_count": null,
   "id": "ca110585",
   "metadata": {
    "id": "ca110585"
   },
   "outputs": [],
   "source": [
    "plot_3d(func, rmsprop, starts, xoptimal, yoptimal)"
   ]
  },
  {
   "cell_type": "code",
   "execution_count": null,
   "id": "ad796973",
   "metadata": {
    "id": "ad796973"
   },
   "outputs": [],
   "source": [
    "random_starts = []\n",
    "for i in 1:4\n",
    "    push!(random_starts,random_start())\n",
    "end\n",
    "print(random_starts)\n",
    "solve(rmsprop, func, random_starts, xoptimal, yoptimal,title)"
   ]
  },
  {
   "cell_type": "code",
   "execution_count": null,
   "id": "0b4c181c",
   "metadata": {
    "id": "0b4c181c"
   },
   "outputs": [],
   "source": [
    "plot_3d(func, rmsprop, random_starts, xoptimal, yoptimal)"
   ]
  },
  {
   "cell_type": "markdown",
   "id": "c683befc",
   "metadata": {
    "id": "c683befc"
   },
   "source": [
    "### Goldstein-Price Function"
   ]
  },
  {
   "cell_type": "code",
   "execution_count": null,
   "id": "42b13d14",
   "metadata": {
    "id": "42b13d14"
   },
   "outputs": [],
   "source": [
    "func = goldstein_price_func\n",
    "title = \"RMSProp | Goldstein-Price Function\"\n",
    "xoptimal = [0]\n",
    "yoptimal = [-1]"
   ]
  },
  {
   "cell_type": "code",
   "execution_count": null,
   "id": "303bf955",
   "metadata": {
    "id": "303bf955"
   },
   "outputs": [],
   "source": [
    "solve(rmsprop, func, starts, xoptimal, yoptimal, title)"
   ]
  },
  {
   "cell_type": "code",
   "execution_count": null,
   "id": "cb61c73f",
   "metadata": {
    "id": "cb61c73f"
   },
   "outputs": [],
   "source": [
    "plot_3d(func, rmsprop, starts, xoptimal, yoptimal)"
   ]
  },
  {
   "cell_type": "code",
   "execution_count": null,
   "id": "0d7290cc",
   "metadata": {
    "id": "0d7290cc"
   },
   "outputs": [],
   "source": [
    "random_starts = []\n",
    "for i in 1:4\n",
    "    push!(random_starts,random_start())\n",
    "end\n",
    "print(random_starts)\n",
    "solve(rmsprop, func, random_starts, xoptimal, yoptimal,title)"
   ]
  },
  {
   "cell_type": "code",
   "execution_count": null,
   "id": "3708ee04",
   "metadata": {
    "id": "3708ee04"
   },
   "outputs": [],
   "source": [
    "plot_3d(func, rmsprop, random_starts, xoptimal, yoptimal)"
   ]
  },
  {
   "cell_type": "markdown",
   "id": "9af6e43a",
   "metadata": {
    "id": "9af6e43a"
   },
   "source": [
    "### Three-Hump Camel Function"
   ]
  },
  {
   "cell_type": "code",
   "execution_count": null,
   "id": "960c4696",
   "metadata": {
    "id": "960c4696"
   },
   "outputs": [],
   "source": [
    "func = three_hump_camel_func\n",
    "title = \"RMSProp | Three-Hump Camel Function\"\n",
    "xoptimal = [0]\n",
    "yoptimal = [0]"
   ]
  },
  {
   "cell_type": "code",
   "execution_count": null,
   "id": "571de32f",
   "metadata": {
    "id": "571de32f"
   },
   "outputs": [],
   "source": [
    "solve(rmsprop, func, starts, xoptimal, yoptimal, title)"
   ]
  },
  {
   "cell_type": "code",
   "execution_count": null,
   "id": "8380a7bd",
   "metadata": {
    "id": "8380a7bd"
   },
   "outputs": [],
   "source": [
    "plot_3d(func, rmsprop, starts, xoptimal, yoptimal)"
   ]
  },
  {
   "cell_type": "code",
   "execution_count": null,
   "id": "273d851e",
   "metadata": {
    "id": "273d851e"
   },
   "outputs": [],
   "source": [
    "random_starts = []\n",
    "for i in 1:4\n",
    "    push!(random_starts,random_start())\n",
    "end\n",
    "print(random_starts)\n",
    "solve(rmsprop, func, random_starts, xoptimal, yoptimal,title)"
   ]
  },
  {
   "cell_type": "code",
   "execution_count": null,
   "id": "3ee5902e",
   "metadata": {
    "id": "3ee5902e"
   },
   "outputs": [],
   "source": [
    "plot_3d(func, rmsprop, random_starts, xoptimal, yoptimal)"
   ]
  },
  {
   "cell_type": "markdown",
   "id": "6a3c1c52-21ef-4bb2-8f6d-f51d53dececc",
   "metadata": {
    "id": "6a3c1c52-21ef-4bb2-8f6d-f51d53dececc"
   },
   "source": [
    "## Adaptive Moment Estimation (Adam)"
   ]
  },
  {
   "cell_type": "code",
   "execution_count": null,
   "id": "73bed294-c966-45ef-8dbc-a28be94d5a30",
   "metadata": {
    "id": "73bed294-c966-45ef-8dbc-a28be94d5a30"
   },
   "outputs": [],
   "source": [
    "### Implement the Adam here\n",
    "### learning algorithms\n",
    "function adam(obj_func, num_params, start, γ=0.9, η=0.001, levels=200, error=0.00001, β1 = 0.9, β2 = 0.999)\n",
    "\n",
    "    θ = start\n",
    "    history = θ\n",
    "    grad = compute_gradient(obj_func, θ)\n",
    "    epochs = 0\n",
    "    v = zeros(num_params)\n",
    "    m = zeros(num_params)\n",
    "    while abs(grad[1]) > error || abs(grad[2]) > error\n",
    "        # update this code block with Adam\n",
    "        if epochs > 50000\n",
    "            break\n",
    "        end\n",
    "\n",
    "        m = β1 * m + (1 - β1) * grad\n",
    "        m̂ = m / (1- β1^(epochs+1))\n",
    "\n",
    "        v = β2 * v + (1 - β2) * grad .^ 2\n",
    "        v̂ = v / (1 - β2^(epochs+1))\n",
    "\n",
    "        θ = θ - η .* m̂ ./ (sqrt.(v̂) .+ 1e-8)  # Adjusted learning rate\n",
    "\n",
    "        grad = compute_gradient(obj_func, θ)\n",
    "        history = hcat(history, θ)\n",
    "        epochs += 1\n",
    "    end\n",
    "    \"\"\"\n",
    "        instead of updating the weight with the current gradient, consider the previous gradient\n",
    "    \"\"\"\n",
    "    println(epochs)\n",
    "    return (round.(θ, digits=3), history)\n",
    "end"
   ]
  },
  {
   "cell_type": "code",
   "execution_count": null,
   "id": "37d0889a",
   "metadata": {
    "id": "37d0889a"
   },
   "outputs": [],
   "source": [
    "start_1 = [10,-10];\n",
    "start_2 = [-4, 4];\n",
    "start_3 = [0, 0];\n",
    "start_4 = [5,5];\n",
    "\n",
    "starts = [start_1, start_2, start_3, start_4]"
   ]
  },
  {
   "cell_type": "markdown",
   "id": "4dcf5edb",
   "metadata": {
    "id": "4dcf5edb"
   },
   "source": [
    "### Beale Function"
   ]
  },
  {
   "cell_type": "code",
   "execution_count": null,
   "id": "e61a8dba",
   "metadata": {
    "id": "e61a8dba"
   },
   "outputs": [],
   "source": [
    "func = beale_func\n",
    "title = \"Adam | Beale Function\"\n",
    "xoptimal = [3.0]\n",
    "yoptimal = [0.5]"
   ]
  },
  {
   "cell_type": "code",
   "execution_count": null,
   "id": "8770bb8c",
   "metadata": {
    "id": "8770bb8c"
   },
   "outputs": [],
   "source": [
    "solve(adam, func, starts, xoptimal, yoptimal, title)"
   ]
  },
  {
   "cell_type": "code",
   "execution_count": null,
   "id": "91651dbc",
   "metadata": {
    "id": "91651dbc"
   },
   "outputs": [],
   "source": [
    "plot_3d(func, adam, starts, xoptimal, yoptimal)"
   ]
  },
  {
   "cell_type": "code",
   "execution_count": null,
   "id": "0a783873",
   "metadata": {
    "id": "0a783873"
   },
   "outputs": [],
   "source": [
    "random_starts = []\n",
    "for i in 1:4\n",
    "    push!(random_starts,random_start())\n",
    "end\n",
    "print(random_starts)\n",
    "solve(adam, func, random_starts, xoptimal, yoptimal,title)"
   ]
  },
  {
   "cell_type": "code",
   "execution_count": null,
   "id": "634008fd",
   "metadata": {
    "id": "634008fd"
   },
   "outputs": [],
   "source": [
    "plot_3d(func, adam, random_starts, xoptimal, yoptimal)"
   ]
  },
  {
   "cell_type": "markdown",
   "id": "076d301b",
   "metadata": {
    "id": "076d301b"
   },
   "source": [
    "### Booth Function"
   ]
  },
  {
   "cell_type": "code",
   "execution_count": null,
   "id": "88b4e236",
   "metadata": {
    "id": "88b4e236"
   },
   "outputs": [],
   "source": [
    "func = booth_func\n",
    "title = \"Adam | Booth Function\"\n",
    "xoptimal = [1.0]\n",
    "yoptimal = [3.0]"
   ]
  },
  {
   "cell_type": "code",
   "execution_count": null,
   "id": "ec4166c4",
   "metadata": {
    "id": "ec4166c4"
   },
   "outputs": [],
   "source": [
    "solve(adam, func, starts, xoptimal, yoptimal, title)"
   ]
  },
  {
   "cell_type": "code",
   "execution_count": null,
   "id": "0b1139d1",
   "metadata": {
    "id": "0b1139d1"
   },
   "outputs": [],
   "source": [
    "plot_3d(func, adam, starts, xoptimal, yoptimal)"
   ]
  },
  {
   "cell_type": "code",
   "execution_count": null,
   "id": "4b87df8d",
   "metadata": {
    "id": "4b87df8d"
   },
   "outputs": [],
   "source": [
    "random_starts = []\n",
    "for i in 1:4\n",
    "    push!(random_starts,random_start())\n",
    "end\n",
    "print(random_starts)\n",
    "solve(adam, func, random_starts, xoptimal, yoptimal,title)"
   ]
  },
  {
   "cell_type": "code",
   "execution_count": null,
   "id": "1ea5bc4b",
   "metadata": {
    "id": "1ea5bc4b"
   },
   "outputs": [],
   "source": [
    "plot_3d(func, adam, random_starts, xoptimal, yoptimal)"
   ]
  },
  {
   "cell_type": "markdown",
   "id": "14385634",
   "metadata": {
    "id": "14385634"
   },
   "source": [
    "### Matyas Function"
   ]
  },
  {
   "cell_type": "code",
   "execution_count": null,
   "id": "30818f71",
   "metadata": {
    "id": "30818f71"
   },
   "outputs": [],
   "source": [
    "func = matyas_func\n",
    "title = \"Adam | Matyas Function\"\n",
    "xoptimal = [0]\n",
    "yoptimal = [0]"
   ]
  },
  {
   "cell_type": "code",
   "execution_count": null,
   "id": "abaabeeb",
   "metadata": {
    "id": "abaabeeb"
   },
   "outputs": [],
   "source": [
    "solve(adam, func, starts, xoptimal, yoptimal, title)"
   ]
  },
  {
   "cell_type": "code",
   "execution_count": null,
   "id": "aaf53f6e",
   "metadata": {
    "id": "aaf53f6e"
   },
   "outputs": [],
   "source": [
    "plot_3d(func, adam, starts, xoptimal, yoptimal)"
   ]
  },
  {
   "cell_type": "code",
   "execution_count": null,
   "id": "6dfccfad",
   "metadata": {
    "id": "6dfccfad"
   },
   "outputs": [],
   "source": [
    "random_starts = []\n",
    "for i in 1:4\n",
    "    push!(random_starts,random_start())\n",
    "end\n",
    "print(random_starts)\n",
    "solve(adam, func, random_starts, xoptimal, yoptimal,title)"
   ]
  },
  {
   "cell_type": "code",
   "execution_count": null,
   "id": "eb421b36",
   "metadata": {
    "id": "eb421b36"
   },
   "outputs": [],
   "source": [
    "plot_3d(func, adam, random_starts, xoptimal, yoptimal)"
   ]
  },
  {
   "cell_type": "markdown",
   "id": "c8909c0b",
   "metadata": {
    "id": "c8909c0b"
   },
   "source": [
    "### Himmelblau Function"
   ]
  },
  {
   "cell_type": "code",
   "execution_count": null,
   "id": "9c5c6b89",
   "metadata": {
    "id": "9c5c6b89"
   },
   "outputs": [],
   "source": [
    "func = himmelblau_func\n",
    "title = \"Adam | HimmelBlau Function\"\n",
    "xoptimal = [3, -2.805118, -3.779310, 3.584428]\n",
    "yoptimal = [2, 3.131312, -3.283186, -1.848126]"
   ]
  },
  {
   "cell_type": "code",
   "execution_count": null,
   "id": "3a732d89",
   "metadata": {
    "id": "3a732d89"
   },
   "outputs": [],
   "source": [
    "solve(adam, func, starts, xoptimal, yoptimal, title)"
   ]
  },
  {
   "cell_type": "code",
   "execution_count": null,
   "id": "29f6a8d1",
   "metadata": {
    "id": "29f6a8d1"
   },
   "outputs": [],
   "source": [
    "plot_3d(func, adam, starts, xoptimal, yoptimal)"
   ]
  },
  {
   "cell_type": "code",
   "execution_count": null,
   "id": "9ca2fc0a",
   "metadata": {
    "colab": {
     "base_uri": "https://localhost:8080/",
     "height": 106
    },
    "id": "9ca2fc0a",
    "outputId": "ee094059-7a72-4515-8f90-fb0aba2b6963"
   },
   "outputs": [],
   "source": [
    "random_starts = []\n",
    "for i in 1:4\n",
    "    push!(random_starts,random_start())\n",
    "end\n",
    "print(random_starts)\n",
    "solve(adam, func, random_starts, xoptimal, yoptimal,title)"
   ]
  },
  {
   "cell_type": "code",
   "execution_count": null,
   "id": "bb24e815",
   "metadata": {
    "id": "bb24e815"
   },
   "outputs": [],
   "source": [
    "plot_3d(func, adam, random_starts, xoptimal, yoptimal)"
   ]
  },
  {
   "cell_type": "markdown",
   "id": "0274f2f0",
   "metadata": {
    "id": "0274f2f0"
   },
   "source": [
    "### Mccormick Function"
   ]
  },
  {
   "cell_type": "code",
   "execution_count": null,
   "id": "6e54fe0d",
   "metadata": {
    "id": "6e54fe0d"
   },
   "outputs": [],
   "source": [
    "func = mccormick_func\n",
    "title = \"Adam | Mccormick Function\"\n",
    "xoptimal = [-0.54719]\n",
    "yoptimal = [-1.54719]"
   ]
  },
  {
   "cell_type": "code",
   "execution_count": null,
   "id": "5ac8eae7",
   "metadata": {
    "id": "5ac8eae7"
   },
   "outputs": [],
   "source": [
    "solve(adam, func, starts, xoptimal, yoptimal, title)"
   ]
  },
  {
   "cell_type": "code",
   "execution_count": null,
   "id": "da95e6fc",
   "metadata": {
    "id": "da95e6fc"
   },
   "outputs": [],
   "source": [
    "plot_3d(func, adam, starts, xoptimal, yoptimal)"
   ]
  },
  {
   "cell_type": "code",
   "execution_count": null,
   "id": "744ba004",
   "metadata": {
    "id": "744ba004"
   },
   "outputs": [],
   "source": [
    "random_starts = []\n",
    "for i in 1:4\n",
    "    push!(random_starts,random_start())\n",
    "end\n",
    "print(random_starts)\n",
    "solve(adam, func, random_starts, xoptimal, yoptimal,title)"
   ]
  },
  {
   "cell_type": "code",
   "execution_count": null,
   "id": "b820a309",
   "metadata": {
    "id": "b820a309"
   },
   "outputs": [],
   "source": [
    "plot_3d(func, adam, random_starts, xoptimal, yoptimal)"
   ]
  },
  {
   "cell_type": "markdown",
   "id": "cce6a0b5",
   "metadata": {
    "id": "cce6a0b5"
   },
   "source": [
    "### Goldstein-Price Function"
   ]
  },
  {
   "cell_type": "code",
   "execution_count": null,
   "id": "9b9b3a76",
   "metadata": {
    "id": "9b9b3a76"
   },
   "outputs": [],
   "source": [
    "func = goldstein_price_func\n",
    "title = \"Adam | Goldstein-Price Function\"\n",
    "xoptimal = [0]\n",
    "yoptimal = [-1]"
   ]
  },
  {
   "cell_type": "code",
   "execution_count": null,
   "id": "5f3d5fcd",
   "metadata": {
    "id": "5f3d5fcd"
   },
   "outputs": [],
   "source": [
    "solve(adam, func, starts, xoptimal, yoptimal, title)"
   ]
  },
  {
   "cell_type": "code",
   "execution_count": null,
   "id": "6f9e8f8b",
   "metadata": {
    "id": "6f9e8f8b"
   },
   "outputs": [],
   "source": [
    "plot_3d(func, adam, starts, xoptimal, yoptimal)"
   ]
  },
  {
   "cell_type": "code",
   "execution_count": null,
   "id": "c1b76687",
   "metadata": {
    "id": "c1b76687"
   },
   "outputs": [],
   "source": [
    "random_starts = []\n",
    "for i in 1:4\n",
    "    push!(random_starts,random_start())\n",
    "end\n",
    "print(random_starts)\n",
    "solve(adam, func, random_starts, xoptimal, yoptimal,title)"
   ]
  },
  {
   "cell_type": "code",
   "execution_count": null,
   "id": "1e1c319a",
   "metadata": {
    "id": "1e1c319a"
   },
   "outputs": [],
   "source": [
    "plot_3d(func, adam, random_starts, xoptimal, yoptimal)"
   ]
  },
  {
   "cell_type": "markdown",
   "id": "066cc1c8",
   "metadata": {
    "id": "066cc1c8"
   },
   "source": [
    "### Three-Hump Camel Function"
   ]
  },
  {
   "cell_type": "code",
   "execution_count": null,
   "id": "d45e5f4f",
   "metadata": {
    "id": "d45e5f4f"
   },
   "outputs": [],
   "source": [
    "func = three_hump_camel_func\n",
    "title = \"Adam | Three-Hump Camel Function\"\n",
    "xoptimal = [0]\n",
    "yoptimal = [0]"
   ]
  },
  {
   "cell_type": "code",
   "execution_count": null,
   "id": "3311e2e6",
   "metadata": {
    "id": "3311e2e6"
   },
   "outputs": [],
   "source": [
    "solve(adam, func, starts, xoptimal, yoptimal, title)"
   ]
  },
  {
   "cell_type": "code",
   "execution_count": null,
   "id": "0f733599",
   "metadata": {
    "id": "0f733599"
   },
   "outputs": [],
   "source": [
    "plot_3d(func, adam, starts, xoptimal, yoptimal)"
   ]
  },
  {
   "cell_type": "code",
   "execution_count": null,
   "id": "93937b23",
   "metadata": {
    "id": "93937b23"
   },
   "outputs": [],
   "source": [
    "random_starts = []\n",
    "for i in 1:4\n",
    "    push!(random_starts,random_start())\n",
    "end\n",
    "print(random_starts)\n",
    "solve(adam, func, random_starts, xoptimal, yoptimal,title)"
   ]
  },
  {
   "cell_type": "code",
   "execution_count": null,
   "id": "a12f2298",
   "metadata": {
    "id": "a12f2298"
   },
   "outputs": [],
   "source": [
    "plot_3d(func, adam, random_starts, xoptimal, yoptimal)"
   ]
  },
  {
   "cell_type": "markdown",
   "id": "40ff1ac2",
   "metadata": {
    "id": "40ff1ac2"
   },
   "source": [
    "\n",
    "objective: try to let the learning algorithms reach the optimal points of these benchmark functions\n",
    "\n",
    "Strategy\n",
    "1. define the benchmark function\n",
    "2. define the starting point (given by sir)\n",
    "3. use learning algorithm, given the benchmark function, starting point\n",
    "4. see if the starting point converges to one of the global minimum points (refer to wiki)\n",
    "\n",
    "Tasks\n",
    "1. implement benchmark functions\n",
    "2. implement learning algorithms\n",
    "3. determine the trajectory of each function using the given starting points (use contour_plot)\n",
    "4. determine the trajectory of each function using randomly generated starting points ()\n",
    "\n",
    "Tips\n",
    "- be careful for points that vanish - explode\n",
    "- beale function is very difficult - you may need to change learning rate and v to help the learning rate converge\n",
    "- be careful for when you get stuck at local minimums - gradient is 0, but there is a deeper trough based on the overall landscape\n",
    "  - this tells us that the function is stuck at a local minimum - the area has a lot of local minimums\n",
    "  - tune learning rate, change optimization functions\n",
    "\n",
    "question"
   ]
  }
 ],
 "metadata": {
  "accelerator": "GPU",
  "colab": {
   "gpuType": "T4",
   "provenance": []
  },
  "kernelspec": {
   "display_name": "Julia 1.9.3",
   "language": "julia",
   "name": "julia-1.9"
  },
  "language_info": {
   "file_extension": ".jl",
   "mimetype": "application/julia",
   "name": "julia",
   "version": "1.9.3"
  }
 },
 "nbformat": 4,
 "nbformat_minor": 5
}
